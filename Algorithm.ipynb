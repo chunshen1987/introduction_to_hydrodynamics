{
 "cells": [
  {
   "cell_type": "markdown",
   "metadata": {},
   "source": [
    "## In this note, we will discuss different numerical algorithm scheme in solving the shock-wave problem\n",
    "\n",
    "In order to compare different types of algorithm, we will consider the following 1D diffusion equation,\n",
    "$$ \\partial_t u = - v \\partial_x u $$\n",
    "For a given initial condition $u(t=t_0, x)$, it's solution at later time $u(t, x)$ is known analytically,\n",
    "$$ u(t, x) = u(t_0, x - vt) $$\n",
    "\n",
    "Here, we first setup our initial condition $u(t=t_0, x)$ for this 1D diffusion problem. We choose $v = 0.5$."
   ]
  },
  {
   "cell_type": "code",
   "execution_count": 1,
   "metadata": {},
   "outputs": [],
   "source": [
    "%matplotlib inline\n",
    "from numpy import *\n",
    "from os import path\n",
    "import matplotlib.pyplot as plt"
   ]
  },
  {
   "cell_type": "code",
   "execution_count": 3,
   "metadata": {},
   "outputs": [
    {
     "data": {
      "image/png": "[encoded data removed]",
      "text/plain": [
       "<Figure size 432x288 with 1 Axes>"
      ]
     },
     "metadata": {
      "needs_background": "light"
     },
     "output_type": "display_data"
    }
   ],
   "source": [
    "#initial setup\n",
    "v = 0.5\n",
    "x = linspace(-2, 5, 701)\n",
    "dx = x[1] - x[0]\n",
    "u0 = zeros(len(x))\n",
    "idx = (x > -1) & (x < 0)\n",
    "u0[idx] = 1.0        # square\n",
    "#u0[idx] = -x[idx]   # triangle\n",
    "plt.plot(x, u0, linewidth=2)\n",
    "plt.xlim([-2, 2]);\n",
    "plt.ylim([0, 1.2]);"
   ]
  },
  {
   "cell_type": "code",
   "execution_count": 4,
   "metadata": {},
   "outputs": [],
   "source": [
    "# prepare the analytic solution\n",
    "def get_analytic_solution(u0, delta_x, delta_t, n_step):\n",
    "    u_analytic = zeros(len(u0))\n",
    "    x_shift = (int)(n_step*delta_t/delta_x*v)\n",
    "    u_analytic[x_shift:] = u0[:-x_shift]\n",
    "    return(u_analytic)"
   ]
  },
  {
   "cell_type": "markdown",
   "metadata": {},
   "source": [
    "### Forward-time centered-space (FTCS) method\n",
    "The simplest numerical scheme would be\n",
    "$$ u_{i}^{n+1} = u_{i}^n - \\frac{v \\Delta t}{2 \\Delta x}(u_{i+1}^n - u_{i-1}^n). $$\n",
    "This numerical scheme gives $ O((\\Delta x)^2) $ in $x$ and $ O(\\Delta t) $ in time."
   ]
  },
  {
   "cell_type": "code",
   "execution_count": 5,
   "metadata": {
    "scrolled": false
   },
   "outputs": [
    {
     "data": {
      "image/png": "[encoded data removed]",
      "text/plain": [
       "<Figure size 432x288 with 1 Axes>"
      ]
     },
     "metadata": {
      "needs_background": "light"
     },
     "output_type": "display_data"
    }
   ],
   "source": [
    "def evolve_FTCS_method(u_init, delta_x, delta_t, n_step):\n",
    "    u_current = copy(u_init)\n",
    "    u_next = zeros(len(u_init))\n",
    "    for it in range(n_step):  \n",
    "        for i in range(0, len(u_current)):\n",
    "            if i == 0:\n",
    "                u_next[i] = u_current[i] - v*delta_t/delta_x*(u_current[i+1] - u_current[i])\n",
    "            elif i == len(u_current)-1:\n",
    "                u_next[i] = u_current[i] - v*delta_t/delta_x*(u_current[i] - u_current[i-1])\n",
    "            else:\n",
    "                u_next[i] = (u_current[i] - v*delta_t/(2.*delta_x)\n",
    "                                            *(u_current[i+1] - u_current[i-1]))\n",
    "        u_current = copy(u_next)\n",
    "    return(u_next)\n",
    "\n",
    "# numerical evolution\n",
    "dt = 0.001       # make sure delta_t/delta_x < 1\n",
    "nt = 200         # evolve 200 time step\n",
    "u_analytic = get_analytic_solution(u0, dx, dt, nt)\n",
    "u_now = evolve_FTCS_method(u0, dx, dt, nt)\n",
    "\n",
    "# check numerical solution\n",
    "fig = plt.figure()\n",
    "plt.plot(x, u_analytic, '-b', linewidth=2)\n",
    "plt.plot(x, u_now, 'or')\n",
    "plt.xlim([-2, 2])\n",
    "plt.ylabel(r'$u$', fontsize=20)\n",
    "plt.xlabel(r'$x$', fontsize=20);"
   ]
  },
  {
   "cell_type": "markdown",
   "metadata": {},
   "source": [
    "### Upwind scheme\n",
    "To fix this problem, we can try the first scheme for the spatial derivative,\n",
    "$$ u_{i}^{n+1} = u_{i}^n - \\frac{v \\Delta t}{\\Delta x}(u_{i}^n - u_{i-1}^n). $$\n",
    "This numerical scheme gives $ O((\\Delta x)) $ in $x$ and $ O(\\Delta t) $ in time."
   ]
  },
  {
   "cell_type": "code",
   "execution_count": 6,
   "metadata": {},
   "outputs": [
    {
     "data": {
      "image/png": "[encoded data removed]",
      "text/plain": [
       "<Figure size 432x288 with 1 Axes>"
      ]
     },
     "metadata": {
      "needs_background": "light"
     },
     "output_type": "display_data"
    }
   ],
   "source": [
    "def evolve_upwind_method(u_init, delta_x, delta_t, n_step):\n",
    "    u_current = copy(u_init)\n",
    "    u_next = zeros(len(u_init))\n",
    "    for it in range(n_step):  \n",
    "        for i in range(0, len(u_current)):\n",
    "            if i == 0:\n",
    "                u_next[i] = u_current[i] - v*delta_t/delta_x*(u_current[i+1] - u_current[i])\n",
    "            else:\n",
    "                u_next[i] = u_current[i] - v*delta_t/delta_x*(u_current[i] - u_current[i-1])\n",
    "        u_current = copy(u_next)\n",
    "    return(u_next)\n",
    "\n",
    "# numerical evolution\n",
    "dt = 0.001        # make sure delta_t/delta_x < 1\n",
    "nt = 1000         # evolve 1000 time step\n",
    "u_analytic = get_analytic_solution(u0, dx, dt, nt)\n",
    "u_now = evolve_upwind_method(u0, dx, dt, nt)\n",
    "\n",
    "# check numerical solution\n",
    "fig = plt.figure()\n",
    "plt.plot(x, u_analytic, '-b', linewidth=2)\n",
    "plt.plot(x, u_now, 'or')\n",
    "plt.xlim([-2, 2])\n",
    "plt.ylabel(r'$u$', fontsize=20)\n",
    "plt.xlabel(r'$x$', fontsize=20)\n",
    "plt.ylim([-0.05, 1.2]);"
   ]
  },
  {
   "cell_type": "markdown",
   "metadata": {},
   "source": [
    "The positivity is maintained in this up-wind scheme. However, as the system evolves in time, the shape of the solution gets more and more distored. (try nt = 1000)\n",
    "This is because the higher order correction to the spatial derivatives in this scheme is\n",
    "$$ \\frac{u_i^n - u_{i-1}^n}{\\Delta x} = \\partial_x u(t_n, x_i) - \\frac{\\Delta x}{2} \\partial_x^2 u(t_n, x_i) + O((\\Delta x)^2)$$\n",
    "The term $\\partial_x^2 u(t_n, x_i)$ generates too much numerical viscosity, which smear out the sharpness of the shape of the function.\n",
    "\n",
    "Thus, we need better discretization scheme which ensure the positivity and achieve higher order accuracy in $\\Delta x$.\n"
   ]
  },
  {
   "cell_type": "markdown",
   "metadata": {},
   "source": [
    "## Finite Element Methods\n",
    "For a fluid cell $i$ the conservation law equation can be written as,\n",
    "$$ \\bar{u}_i^{n+1} = \\bar{u}_i^n - \\frac{1}{\\Delta x} \\int_{t_n}^{t_{n+1}} dt \\bigg(v \\bar{u}^n_{i+1/2} - v \\bar{u}^n_{i-1/2} \\bigg) $$\n",
    "where $i\\pm1/2$ are the cell boundaries.\n",
    "\n",
    "Approximating the time integral by midpoint rule, we get\n",
    "$$ \\bar{u}_i^{n+1} = \\bar{u}_i^n - \\frac{v\\Delta t}{\\Delta x} \\bigg(  \\bar{u}^{n+1/2}_{i+1/2} - \\bar{u}^{n+1/2}_{i-1/2} \\bigg)  $$\n",
    "\n",
    "In order to evaluate the values of $\\bar{u}$ at the boundaries $i\\pm1/2$, we can use a staggered method. In the first step, we evaluate $\\bar{u}^{n+1}$ at $i+1/2$ and second step we jump half step back to $\\bar{u}^{n+2}_{i}$.\n",
    "\n",
    "$$ \\bar{u}^{n+1}_{i+1/2} = \\frac{\\bar{u}^n_{i+1} + \\bar{u}^n_i}{2} - \\frac{v \\Delta t}{\\Delta x} \\bigg( \\bar{u}^{n+1/2}_{i+1} - \\bar{u}^{n+1/2}_{i} \\bigg) $$\n",
    "\n",
    "Here we use $\\bar{u}^{n}_{i+1/2} = (\\bar{u}^n_{i+1} + \\bar{u}^n_i)/2$ at the current time step $t_n$. The halfway time step quantities can be evaluated using the forward Euler method,\n",
    "\n",
    "$$ \\bar{u}^{n+1/2}_i = \\bar{u}^n_i - \\frac{\\Delta t}{2} (\\partial_x u)^n_i $$\n",
    "\n",
    "This is a generalized Lax-Friedrichs method.\n",
    "\n",
    "### generalized minmod flux limiter\n",
    "\n",
    "To evaluate the spatial derivative, $(\\partial_x u)^n_i$, we already know that the central difference scheme could be unstable when the gradient is large. But it is OK to use in the smooth region. So here we introduce a scheme which can switch between centeral difference scheme and first order scheme based on the local gradient:\n",
    "\n",
    "$$ (\\partial_x u)^n_i = \\left\\{ \\begin{array}{cc} 0 & \\mbox{if } \\bar{u}_i^n < \\bar{u}^n_{i\\pm1} \\mbox{ or } \\bar{u}_i^n > \\bar{u}^n_{i\\pm1} \\\\ sign(\\bar{u}^n_{i+1} - \\bar{u}^n_i)min \\left(\\theta \\frac{\\vert \\bar{u}_{i+1}^n - \\bar{u}_{i}^n \\vert}{\\Delta x}, \\frac{\\vert \\bar{u}_{i+1}^n - \\bar{u}_{i-1}^n \\vert}{2 \\Delta x} , \\theta \\frac{\\vert \\bar{u}_{i}^n - \\bar{u}_{i-1}^n \\vert}{\\Delta x} \\right) & \\mbox{otherwise} \\end{array} \\right.$$\n",
    "\n",
    "The the parameter $\\theta$ is called the flux limiter, $1 \\le \\theta < 2$ in general."
   ]
  },
  {
   "cell_type": "code",
   "execution_count": 7,
   "metadata": {},
   "outputs": [],
   "source": [
    "def minmod(u_left, u_mid, u_right, delta_x, theta=1.8):\n",
    "    if (u_left - u_mid)*(u_right - u_mid) > 0:\n",
    "        return(0)\n",
    "    else:\n",
    "        dudx_left = (u_mid - u_left)/delta_x\n",
    "        dudx_right = (u_right - u_mid)/delta_x\n",
    "        dudx_mid = (u_right - u_left)/(2.*delta_x)\n",
    "        if u_right > u_mid:\n",
    "            dudx = min([dudx_left*theta, dudx_mid, dudx_right*theta])\n",
    "        else:\n",
    "            dudx = max([dudx_left*theta, dudx_mid, dudx_right*theta])\n",
    "        return(dudx)"
   ]
  },
  {
   "cell_type": "markdown",
   "metadata": {},
   "source": [
    "### Generalized Lax-Friedrichs method"
   ]
  },
  {
   "cell_type": "code",
   "execution_count": 8,
   "metadata": {},
   "outputs": [
    {
     "data": {
      "image/png": "[encoded data removed]",
      "text/plain": [
       "<Figure size 432x288 with 1 Axes>"
      ]
     },
     "metadata": {
      "needs_background": "light"
     },
     "output_type": "display_data"
    }
   ],
   "source": [
    "def evolve_LaxFriedrichs_method(u_init, delta_x, delta_t, n_step):\n",
    "    u_current = copy(u_init)\n",
    "    u_next = zeros(len(u_init))\n",
    "    dudx = zeros(len(u_init))\n",
    "    u_half = zeros(len(u_init))\n",
    "    for it in range(nt):\n",
    "        for i in range(0, len(u_current)):  # compute dudx using minmod flux limiter\n",
    "            if i == 0:\n",
    "                dudx = minmod(u_current[i], u_current[i], u_current[i+1], delta_x)\n",
    "            elif i == len(u_current)-1:\n",
    "                dudx = minmod(u_current[i-1], u_current[i], u_current[i], delta_x)\n",
    "            else:\n",
    "                dudx = minmod(u_current[i-1], u_current[i], u_current[i+1], delta_x)\n",
    "        u_half = u_current - delta_t/2.*dudx\n",
    "        for i in range(0, len(u_current)):\n",
    "            if it%2 == 0:  # staggered evolution between i and i+1/2\n",
    "                if i == len(u_current) - 1:\n",
    "                    u_next[i] = ((u_current[i] + u_current[i-1])/2.\n",
    "                                 - v*delta_t/delta_x*(u_half[i] - u_half[i-1]))\n",
    "                else:\n",
    "                    u_next[i] = ((u_current[i+1] + u_current[i])/2.\n",
    "                                 - v*delta_t/delta_x*(u_half[i+1] - u_half[i]))\n",
    "            else:\n",
    "                if i == 0:\n",
    "                    u_next[i] = ((u_current[i+1] + u_current[i])/2.\n",
    "                                 - v*delta_t/delta_x*(u_half[i+1] - u_half[i]))\n",
    "                else:\n",
    "                    u_next[i] = ((u_current[i] + u_current[i-1])/2.\n",
    "                                 - v*delta_t/delta_x*(u_half[i] - u_half[i-1]))\n",
    "        u_current = copy(u_next)\n",
    "    return(u_next)\n",
    "\n",
    "# check numerical solution\n",
    "dt = 0.001        # make sure delta_t/delta_x < 1\n",
    "nt = 1000         # evolve 1000 time step\n",
    "u_analytic = get_analytic_solution(u0, dx, dt, nt)\n",
    "u_now = evolve_LaxFriedrichs_method(u0, dx, dt, nt)\n",
    "\n",
    "fig = plt.figure()\n",
    "plt.plot(x, u_analytic, '-b', linewidth=2)\n",
    "plt.plot(x, u_now, 'or')\n",
    "plt.xlim([-2, 2]);\n",
    "plt.ylabel(r'$u$', fontsize=20);\n",
    "plt.xlabel(r'$x$', fontsize=20);\n",
    "plt.ylim([-0.05, 1.2]);"
   ]
  },
  {
   "cell_type": "markdown",
   "metadata": {
    "collapsed": true
   },
   "source": [
    "We can see that the numerical viscosity is still quite large in this scheme. From the Taylor expation, we find\n",
    "$$ \\frac{\\bar{u}^n_{i+1} + \\bar{u}^n_i}{2} = \\bar{u}^n_{i+1/2} + \\frac{(\\Delta x)^2}{8} \\partial_x^2 u^n_{i+1/2} $$\n",
    "\n",
    "The numerical viscosity comes with $\\mathcal{O}(\\Delta x^2)$. We need higher order scheme. \n",
    "### Second order Nessyahu-Tadmor (NT) Scheme\n",
    "\n",
    "To improve the estimation of $\\bar{u}^n_{i+1/2}$, we can use additional information from the first order derivative,\n",
    "\n",
    "$$ \\bar{u}^n_{i+1/2} = \\bar{u}^n_{i} + \\frac{\\Delta x}{2} (\\partial_x u)_i^n \\quad \\mbox{ or } \\quad  \\bar{u}^n_{i+1/2} = \\bar{u}^n_{i+1} - \\frac{\\Delta x}{2} (\\partial_x u)_{i+1}^n$$\n",
    "\n",
    "In this case, we add a correction term,\n",
    "\n",
    "$$ \\bar{u}^{n+1}_{i+1/2} = \\frac{\\bar{u}^n_{i+1} + \\bar{u}^n_i}{2} - \\frac{v \\Delta t}{\\Delta x} \\bigg( \\bar{u}^{n+1/2}_{i+1} - \\bar{u}^{n+1/2}_{i} \\bigg) - \\frac{\\Delta x}{4}(\\partial_x u)^n_{i+1} - (\\partial_x u)^n_i) $$\n",
    "\n",
    "The last term cancels the leading order numerical viscosity in the generalized Lax-Friedrichs method. This scheme is $\\mathcal{O}(\\Delta x^4)$ in the smooth region."
   ]
  },
  {
   "cell_type": "code",
   "execution_count": 9,
   "metadata": {},
   "outputs": [
    {
     "data": {
      "image/png": "[encoded data removed]",
      "text/plain": [
       "<Figure size 432x288 with 1 Axes>"
      ]
     },
     "metadata": {
      "needs_background": "light"
     },
     "output_type": "display_data"
    }
   ],
   "source": [
    "def evolve_NT_method(u_init, delta_x, delta_t, n_step):\n",
    "    u_current = copy(u_init)\n",
    "    u_next = zeros(len(u_init))\n",
    "    u_half = zeros(len(u_init))\n",
    "    dudx = zeros(len(u_init))\n",
    "    for it in range(nt):\n",
    "        for i in range(0, len(u_current)):\n",
    "            if i == 0:\n",
    "                dudx[i] = minmod(u_current[i], u_current[i], u_current[i+1], delta_x)\n",
    "            elif i == len(u_current)-1:\n",
    "                dudx[i] = minmod(u_current[i-1], u_current[i], u_current[i], delta_x)\n",
    "            else:\n",
    "                dudx[i] = minmod(u_current[i-1], u_current[i], u_current[i+1], delta_x)\n",
    "        u_half = u_current - delta_t/2.*dudx\n",
    "        for i in range(0, len(u_current)):\n",
    "            if it%2 == 1:  # staggered evolution between i and i+1/2\n",
    "                if i == len(u_current) - 1:\n",
    "                    u_next[i] = ((u_current[i] + u_current[i-1])/2.\n",
    "                                 - v*delta_t/delta_x*(u_half[i] - u_half[i-1])\n",
    "                                 - delta_x/4.*(dudx[i] - dudx[i-1]))\n",
    "                else:\n",
    "                    u_next[i] = ((u_current[i+1] + u_current[i])/2.\n",
    "                                 - v*delta_t/delta_x*(u_half[i+1] - u_half[i])\n",
    "                                 - delta_x/4.*(dudx[i+1] - dudx[i]))\n",
    "            else:\n",
    "                if i == 0:\n",
    "                    u_next[i] = ((u_current[i+1] + u_current[i])/2.\n",
    "                                 - v*delta_t/delta_x*(u_half[i+1] - u_half[i])\n",
    "                                 - delta_x/4.*(dudx[i+1] - dudx[i]))\n",
    "                else:\n",
    "                    u_next[i] = ((u_current[i] + u_current[i-1])/2.\n",
    "                                 - v*delta_t/delta_x*(u_half[i] - u_half[i-1])\n",
    "                                 - delta_x/4.*(dudx[i] - dudx[i-1]))\n",
    "        u_current = copy(u_next)\n",
    "    return(u_next)\n",
    "\n",
    "# check numerical solution\n",
    "dt = 0.001       # make sure delta_t/delta_x < 1\n",
    "nt = 1000        # evolve 1000 time step\n",
    "u_analytic = get_analytic_solution(u0, dx, dt, nt)\n",
    "u_now = evolve_NT_method(u0, dx, dt, nt)\n",
    "\n",
    "fig = plt.figure()\n",
    "plt.plot(x, u_analytic, '-b', linewidth=2)\n",
    "plt.plot(x, u_now, 'or')\n",
    "plt.xlim([-2, 2]);\n",
    "plt.ylabel(r'$u$', fontsize=20);\n",
    "plt.xlabel(r'$x$', fontsize=20);\n",
    "plt.ylim([-0.05, 1.2]);"
   ]
  },
  {
   "cell_type": "markdown",
   "metadata": {
    "collapsed": true
   },
   "source": [
    "The second order NT scheme works well in practice. However, one can not take $\\Delta t$ to zero because the numerical viscosity behaves like $1/\\Delta t$. It would be good to take the limit $\\Delta t \\rightarrow 0$ because one can then formulate the discretized problem as a set of coupled ordinary differential equations in time. Many techniques for the ordinary differential equations such as the Runge-Kutta methods become available to control the accuracy of the time evolution.\n",
    "\n",
    "### The second order Kurganov-Tadmor (KT) algorithm\n",
    "\n",
    "The idea of the KT algorithm is that the size of the cell which contains the discontinuity at the half integer point $x_{i+1/2}$ is controlled by the local propagation speed $c_{i+1/2}$. The cells containing the boundaries and the cells not containing the boundaries are independently evolved. "
   ]
  },
  {
   "cell_type": "code",
   "execution_count": 18,
   "metadata": {},
   "outputs": [
    {
     "data": {
      "image/png": "[encoded data removed]",
      "text/plain": [
       "<Figure size 432x288 with 1 Axes>"
      ]
     },
     "metadata": {
      "needs_background": "light"
     },
     "output_type": "display_data"
    }
   ],
   "source": [
    "def evolve_KT_method(u_init, delta_x, delta_t, n_step):\n",
    "    u_current = copy(u_init)\n",
    "    dudx = zeros(len(u_init))\n",
    "    u_plus_half = zeros(len(u_init))\n",
    "    u_minus_half = zeros(len(u_init))\n",
    "    H = zeros(len(u_init))\n",
    "    u_half = copy(u_init)\n",
    "    u_next = zeros(len(u_init))\n",
    "    for it in range(nt):\n",
    "        for rk_step in range(2):\n",
    "            for i in range(len(u_half)):  # compute dudx using minmod flux limiter\n",
    "                if i == 0:\n",
    "                    dudx[i] = minmod(u_half[i], u_half[i], u_half[i+1], delta_x)\n",
    "                elif i == len(u_current)-1:\n",
    "                    dudx[i] = minmod(u_half[i-1], u_half[i], u_half[i], delta_x)\n",
    "                else:\n",
    "                    dudx[i] = minmod(u_half[i-1], u_half[i], u_half[i+1], delta_x)\n",
    "            for i in range(len(u_half)):  # compute halfway cells\n",
    "                if i == len(u_half) - 1:\n",
    "                    u_plus_half[i] = u_half[i] - delta_x/2.*dudx[i]\n",
    "                else:\n",
    "                    u_plus_half[i] = u_half[i+1] - delta_x/2.*dudx[i+1]\n",
    "            u_minus_half = u_half + delta_x/2.*dudx\n",
    "            c_i = v\n",
    "            H = ((v*u_plus_half + v*u_minus_half)/2. - c_i/2.*(u_plus_half - u_minus_half))\n",
    "            if rk_step == 0:  # evlove time evolution with Runge-Kutta\n",
    "                for i in range(len(u_half)):\n",
    "                    if i == 0:\n",
    "                        u_half[i] = u_half[i] - delta_t/delta_x*(H[i+1] - H[i])\n",
    "                    else:\n",
    "                        u_half[i] = u_half[i] - delta_t/delta_x*(H[i] - H[i-1])\n",
    "            else:\n",
    "                for i in range(len(u_half)):\n",
    "                    if i == 0:\n",
    "                        u_next[i] = u_half[i] - delta_t/delta_x*(H[i+1] - H[i])\n",
    "                    else:\n",
    "                        u_next[i] = u_half[i] - delta_t/delta_x*(H[i] - H[i-1])\n",
    "                u_next = 0.5*(u_current + u_next)\n",
    "                u_current = copy(u_next)  # update\n",
    "                u_half = copy(u_next)\n",
    "    return(u_next)\n",
    "\n",
    "dt = 0.01  # make sure delta_t/delta_x < 1\n",
    "nt = 100        # evolve 100 time step\n",
    "u_analytic = get_analytic_solution(u0, dx, dt, nt)\n",
    "u_now = evolve_KT_method(u0, dx, dt, nt)\n",
    "\n",
    "# check numerical solution\n",
    "fig = plt.figure()\n",
    "plt.plot(x, u_analytic, '-b', linewidth=2)\n",
    "plt.plot(x, u_now, 'or')\n",
    "plt.xlim([-2, 2])\n",
    "plt.ylabel(r'$u$', fontsize=20)\n",
    "plt.xlabel(r'$x$', fontsize=20)\n",
    "plt.ylim([-0.05, 1.2]);"
   ]
  },
  {
   "cell_type": "markdown",
   "metadata": {},
   "source": [
    "### SHASTA"
   ]
  },
  {
   "cell_type": "code",
   "execution_count": 13,
   "metadata": {},
   "outputs": [
    {
     "data": {
      "text/plain": [
       "Text(0.5, 0, '$x$')"
      ]
     },
     "execution_count": 13,
     "metadata": {},
     "output_type": "execute_result"
    },
    {
     "data": {
      "image/png": "[encoded data removed]",
      "text/plain": [
       "<Figure size 432x288 with 1 Axes>"
      ]
     },
     "metadata": {
      "needs_background": "light"
     },
     "output_type": "display_data"
    }
   ],
   "source": [
    "def minmod_SHASTA(w0, w1, w2, w3, deltax):\n",
    "    delta_1 = (w1 - w0)/deltax\n",
    "    delta_2 = (w2 - w1)/deltax\n",
    "    delta_3 = (w3 - w2)/deltax\n",
    "    if delta_1*delta_2 < 0 or delta_2*delta_3 < 0:\n",
    "        return(0.0)\n",
    "    else:\n",
    "        if delta_2 > 0:\n",
    "            return(min([delta_1, 1./8.*delta_2, delta_3]))\n",
    "        else:\n",
    "            return(max([delta_1, 1./8.*delta_2, delta_3]))\n",
    "        \n",
    "def evolve_SHASTA_method(u_init, delta_x, delta_t, n_step):\n",
    "    epsilon = v*delta_t/delta_x\n",
    "    u_current = copy(u_init)\n",
    "    u_next = zeros(len(u_init))\n",
    "    dudx = zeros(len(u_init))\n",
    "    u_half = zeros(len(u_init))\n",
    "    w_next = zeros(len(u_init))\n",
    "    dwdx = zeros(len(u_init))\n",
    "    for it in range(nt):\n",
    "        for i in range(0, len(u_current)):\n",
    "            if i == 0:\n",
    "                dudx[i] = minmod(u_current[i], u_current[i], u_current[i+1], delta_x)\n",
    "            elif i == len(u_current)-1:\n",
    "                dudx[i] = minmod(u_current[i-1], u_current[i], u_current[i], delta_x)\n",
    "            else:\n",
    "                dudx[i] = minmod(u_current[i-1], u_current[i], u_current[i+1], delta_x)\n",
    "        u_half = u_current - delta_t/2.*dudx\n",
    "        for i in range(0, len(u_current)):\n",
    "            if i == 0:\n",
    "                w_next[i] = (u_current[i] - epsilon*(u_half[i+1] - u_half[i])\n",
    "                             + 1./8.*(u_current[i+1] - 2.*u_current[i] + u_current[i]))\n",
    "            elif i == len(u_current) - 1:\n",
    "                w_next[i] = (u_current[i] - epsilon*(u_half[i] - u_half[i-1])\n",
    "                             + 1./8.*(u_current[i] - 2.*u_current[i] + u_current[i-1]))\n",
    "            else:\n",
    "                w_next[i] = (u_current[i] - epsilon/2.*(u_half[i+1] - u_half[i-1])\n",
    "                             + 1./8.*(u_current[i+1] - 2.*u_current[i] + u_current[i-1]))\n",
    "        for i in range(0, len(u_current)):  # compute dw^{i+1}/dx\n",
    "            if i == 0:\n",
    "                dwdx[i] = minmod_SHASTA(w_next[i], w_next[i], w_next[i+1],\n",
    "                                        w_next[i+2], delta_x)\n",
    "            elif i == len(u_current) - 2:\n",
    "                dwdx[i] = minmod_SHASTA(w_next[i-1], w_next[i], w_next[i+1],\n",
    "                                        w_next[i+1], delta_x)\n",
    "            elif i == len(u_current) - 1:\n",
    "                dwdx[i] = minmod_SHASTA(w_next[i-1], w_next[i], w_next[i],\n",
    "                                        w_next[i], delta_x)\n",
    "            else:\n",
    "                dwdx[i] = minmod_SHASTA(w_next[i-1], w_next[i], w_next[i+1],\n",
    "                                        w_next[i+2], delta_x)          \n",
    "        for i in range(0, len(u_current)):  # anti-diffusion stage\n",
    "            if i == len(u_current)-1:\n",
    "                u_next[i] = w_next[i] - delta_x*(dwdx[i] - dwdx[i-1])\n",
    "            else:\n",
    "                u_next[i] = w_next[i] - delta_x*(dwdx[i+1] - dwdx[i])\n",
    "        u_current = copy(u_next)  # update\n",
    "    return(u_next)\n",
    "\n",
    "dt = 0.001  # make sure delta_t/delta_x < 1\n",
    "nt = 100        # evolve 100 time step\n",
    "u_analytic = get_analytic_solution(u0, dx, dt, nt)\n",
    "u_now = evolve_SHASTA_method(u0, dx, dt, nt)\n",
    "\n",
    "# check numerical solution\n",
    "fig = plt.figure()\n",
    "plt.plot(x, u_analytic, '-b', linewidth=2)\n",
    "plt.plot(x, u_now, 'or')\n",
    "plt.xlim([-2, 2]);\n",
    "plt.ylabel(r'$u$', fontsize=20);\n",
    "plt.xlabel(r'$x$', fontsize=20)"
   ]
  },
  {
   "cell_type": "code",
   "execution_count": null,
   "metadata": {
    "collapsed": true
   },
   "outputs": [],
   "source": []
  }
 ],
 "metadata": {
  "kernelspec": {
   "display_name": "Python 3",
   "language": "python",
   "name": "python3"
  },
  "language_info": {
   "codemirror_mode": {
    "name": "ipython",
    "version": 3
   },
   "file_extension": ".py",
   "mimetype": "text/x-python",
   "name": "python",
   "nbconvert_exporter": "python",
   "pygments_lexer": "ipython3",
   "version": "3.7.1"
  }
 },
 "nbformat": 4,
 "nbformat_minor": 1
}
